{
 "cells": [
  {
   "cell_type": "markdown",
   "metadata": {},
   "source": [
    "## Lesson 2"
   ]
  },
  {
   "cell_type": "code",
   "execution_count": 22,
   "metadata": {
    "collapsed": true
   },
   "outputs": [],
   "source": [
    "import pandas as pd\n",
    "import numpy as np"
   ]
  },
  {
   "cell_type": "code",
   "execution_count": 23,
   "metadata": {
    "collapsed": false
   },
   "outputs": [],
   "source": [
    "data_house=pd.read_csv('house_price.tsv',sep='\\t')"
   ]
  },
  {
   "cell_type": "code",
   "execution_count": 24,
   "metadata": {
    "collapsed": false
   },
   "outputs": [
    {
     "data": {
      "text/html": [
       "<div>\n",
       "<table border=\"1\" class=\"dataframe\">\n",
       "  <thead>\n",
       "    <tr style=\"text-align: right;\">\n",
       "      <th></th>\n",
       "      <th>Taxes</th>\n",
       "      <th>Bedrooms</th>\n",
       "      <th>Baths</th>\n",
       "      <th>Quadrant</th>\n",
       "      <th>NW</th>\n",
       "      <th>price</th>\n",
       "      <th>size</th>\n",
       "      <th>lot</th>\n",
       "    </tr>\n",
       "  </thead>\n",
       "  <tbody>\n",
       "    <tr>\n",
       "      <th>0</th>\n",
       "      <td>1360</td>\n",
       "      <td>3</td>\n",
       "      <td>2.0</td>\n",
       "      <td>NW</td>\n",
       "      <td>1</td>\n",
       "      <td>145000</td>\n",
       "      <td>1240</td>\n",
       "      <td>18000</td>\n",
       "    </tr>\n",
       "    <tr>\n",
       "      <th>1</th>\n",
       "      <td>1050</td>\n",
       "      <td>1</td>\n",
       "      <td>1.0</td>\n",
       "      <td>NW</td>\n",
       "      <td>1</td>\n",
       "      <td>68000</td>\n",
       "      <td>370</td>\n",
       "      <td>25000</td>\n",
       "    </tr>\n",
       "    <tr>\n",
       "      <th>2</th>\n",
       "      <td>1010</td>\n",
       "      <td>3</td>\n",
       "      <td>1.5</td>\n",
       "      <td>NW</td>\n",
       "      <td>1</td>\n",
       "      <td>115000</td>\n",
       "      <td>1130</td>\n",
       "      <td>25000</td>\n",
       "    </tr>\n",
       "    <tr>\n",
       "      <th>3</th>\n",
       "      <td>830</td>\n",
       "      <td>3</td>\n",
       "      <td>2.0</td>\n",
       "      <td>SW</td>\n",
       "      <td>0</td>\n",
       "      <td>69000</td>\n",
       "      <td>1120</td>\n",
       "      <td>17000</td>\n",
       "    </tr>\n",
       "    <tr>\n",
       "      <th>4</th>\n",
       "      <td>2150</td>\n",
       "      <td>3</td>\n",
       "      <td>2.0</td>\n",
       "      <td>NW</td>\n",
       "      <td>1</td>\n",
       "      <td>163000</td>\n",
       "      <td>1710</td>\n",
       "      <td>14000</td>\n",
       "    </tr>\n",
       "  </tbody>\n",
       "</table>\n",
       "</div>"
      ],
      "text/plain": [
       "   Taxes  Bedrooms  Baths Quadrant  NW   price  size    lot\n",
       "0   1360         3    2.0       NW   1  145000  1240  18000\n",
       "1   1050         1    1.0       NW   1   68000   370  25000\n",
       "2   1010         3    1.5       NW   1  115000  1130  25000\n",
       "3    830         3    2.0       SW   0   69000  1120  17000\n",
       "4   2150         3    2.0       NW   1  163000  1710  14000"
      ]
     },
     "execution_count": 24,
     "metadata": {},
     "output_type": "execute_result"
    }
   ],
   "source": [
    "data_house.head()"
   ]
  },
  {
   "cell_type": "code",
   "execution_count": 25,
   "metadata": {
    "collapsed": true
   },
   "outputs": [],
   "source": [
    "x=data_house.as_matrix(['size'])\n",
    "y=data_house.as_matrix(['price'])"
   ]
  },
  {
   "cell_type": "code",
   "execution_count": 26,
   "metadata": {
    "collapsed": false
   },
   "outputs": [],
   "source": [
    "from sklearn import linear_model"
   ]
  },
  {
   "cell_type": "code",
   "execution_count": 27,
   "metadata": {
    "collapsed": false
   },
   "outputs": [
    {
     "data": {
      "text/plain": [
       "LinearRegression(copy_X=True, fit_intercept=True, n_jobs=1, normalize=False)"
      ]
     },
     "execution_count": 27,
     "metadata": {},
     "output_type": "execute_result"
    }
   ],
   "source": [
    "regr=linear_model.LinearRegression()\n",
    "regr.fit(x,y)"
   ]
  },
  {
   "cell_type": "code",
   "execution_count": 28,
   "metadata": {
    "collapsed": false
   },
   "outputs": [
    {
     "name": "stdout",
     "output_type": "stream",
     "text": [
      "Coefficient: [[ 77.00769255]]\n",
      "Intercept: [ 9161.15886434]\n"
     ]
    }
   ],
   "source": [
    "print('Coefficient:',regr.coef_)\n",
    "print('Intercept:',regr.intercept_)\n",
    "## print('Score',regr.score)"
   ]
  },
  {
   "cell_type": "code",
   "execution_count": 34,
   "metadata": {
    "collapsed": false
   },
   "outputs": [
    {
     "name": "stdout",
     "output_type": "stream",
     "text": [
      "Total sum of squares: [  3.14432520e+11]\n",
      "Explained sum of squares: [  1.82219935e+11]\n",
      "Residual sum of squares: [  1.32212585e+11]\n",
      "R^2 score computed from score function: 0.579520002547\n",
      "R^2 score computed from ssr / sst: [ 0.57952]\n"
     ]
    }
   ],
   "source": [
    "sst = sum((y - np.mean(y)) ** 2)\n",
    "ssr = sum((regr.predict(x) - np.mean(y)) ** 2)\n",
    "sse = sum((regr.predict(x) - y) ** 2)\n",
    "\n",
    "print('Total sum of squares:', sst)\n",
    "print('Explained sum of squares:', ssr)\n",
    "print('Residual sum of squares:', sse)\n",
    "print('R^2 score computed from score function:', regr.score(x, y))\n",
    "print('R^2 score computed from ssr / sst:', ssr / sst)"
   ]
  },
  {
   "cell_type": "code",
   "execution_count": 73,
   "metadata": {
    "collapsed": false
   },
   "outputs": [
    {
     "name": "stdout",
     "output_type": "stream",
     "text": [
      "Coefficient: [[ 34.06888701  32.12061364]]\n",
      "Intercept: [ 21115.05008427]\n"
     ]
    }
   ],
   "source": [
    "x=data_house.as_matrix(['size','Taxes'])\n",
    "y=data_house.as_matrix(['price'])\n",
    "regr=linear_model.LinearRegression()\n",
    "regr.fit(x,y)\n",
    "print('Coefficient:',regr.coef_)\n",
    "print('Intercept:',regr.intercept_)"
   ]
  },
  {
   "cell_type": "code",
   "execution_count": 74,
   "metadata": {
    "collapsed": false
   },
   "outputs": [
    {
     "data": {
      "text/plain": [
       "'\\nfrom datetime import datetime\\nnp.random.seed(np.random.seed(datetime.now().microsecond))\\n'"
      ]
     },
     "execution_count": 74,
     "metadata": {},
     "output_type": "execute_result"
    }
   ],
   "source": [
    "np.random.seed(2017)\n",
    "'''\n",
    "from datetime import datetime\n",
    "np.random.seed(np.random.seed(datetime.now().microsecond))\n",
    "'''\n"
   ]
  },
  {
   "cell_type": "code",
   "execution_count": 88,
   "metadata": {
    "collapsed": true
   },
   "outputs": [],
   "source": [
    "train = np.random.choice([True, False], len(x), replace=True, p=[0.9,0.1])\n",
    "## split the data into training and testing with a ratio of 80% and 20%"
   ]
  },
  {
   "cell_type": "code",
   "execution_count": 89,
   "metadata": {
    "collapsed": false
   },
   "outputs": [
    {
     "data": {
      "text/plain": [
       "array([ True,  True,  True,  True,  True,  True,  True,  True,  True,\n",
       "       False,  True,  True,  True,  True,  True,  True, False,  True,\n",
       "        True,  True,  True,  True,  True, False,  True,  True,  True,\n",
       "        True,  True,  True,  True,  True,  True,  True,  True,  True,\n",
       "        True,  True,  True,  True,  True, False,  True, False,  True,\n",
       "        True,  True,  True,  True,  True, False,  True,  True,  True,\n",
       "        True,  True,  True,  True,  True,  True,  True,  True,  True,\n",
       "       False,  True,  True,  True,  True,  True,  True,  True,  True,\n",
       "       False,  True, False,  True,  True,  True,  True,  True,  True,\n",
       "        True, False,  True,  True,  True,  True,  True,  True,  True,\n",
       "        True,  True,  True,  True,  True,  True,  True,  True,  True,  True], dtype=bool)"
      ]
     },
     "execution_count": 89,
     "metadata": {},
     "output_type": "execute_result"
    }
   ],
   "source": [
    "train"
   ]
  },
  {
   "cell_type": "code",
   "execution_count": 90,
   "metadata": {
    "collapsed": false
   },
   "outputs": [
    {
     "name": "stdout",
     "output_type": "stream",
     "text": [
      "R^2 score: 0.42\n"
     ]
    }
   ],
   "source": [
    "x_train = x[train,:]\n",
    "y_train = y[train]\n",
    "x_test = x[~train,:]\n",
    "y_test = y[~train]\n",
    "regr.fit(x_train, y_train)\n",
    "print('R^2 score: %.2f' % regr.score(x_test, y_test))"
   ]
  },
  {
   "cell_type": "code",
   "execution_count": 91,
   "metadata": {
    "collapsed": false
   },
   "outputs": [],
   "source": [
    "from sklearn import metrics\n",
    "\n",
    "#y_pred = regr.predict(x_test)\n",
    "#metrics.explained_variance_score(y_test, y_pred)\n",
    "#metrics.mean_absolute_error(y_test, y_pred)\n",
    "#metrics.mean_squared_error(y_test, y_pred)"
   ]
  },
  {
   "cell_type": "code",
   "execution_count": 92,
   "metadata": {
    "collapsed": true
   },
   "outputs": [],
   "source": [
    "y_pred=regr.predict(x_test)"
   ]
  },
  {
   "cell_type": "code",
   "execution_count": 93,
   "metadata": {
    "collapsed": false
   },
   "outputs": [
    {
     "data": {
      "text/plain": [
       "array([[  69180.32364308],\n",
       "       [ 102349.96780575],\n",
       "       [ 130627.24222497],\n",
       "       [ 119557.67561492],\n",
       "       [ 144823.17390136],\n",
       "       [  96146.32001603],\n",
       "       [ 316007.12777911],\n",
       "       [ 182739.08701307],\n",
       "       [ 132718.20178618],\n",
       "       [ 127502.11859307]])"
      ]
     },
     "execution_count": 93,
     "metadata": {},
     "output_type": "execute_result"
    }
   ],
   "source": [
    "y_pred"
   ]
  },
  {
   "cell_type": "code",
   "execution_count": 94,
   "metadata": {
    "collapsed": false
   },
   "outputs": [
    {
     "data": {
      "text/plain": [
       "0.42202429511408768"
      ]
     },
     "execution_count": 94,
     "metadata": {},
     "output_type": "execute_result"
    }
   ],
   "source": [
    "metrics.explained_variance_score(y_test,y_pred)"
   ]
  },
  {
   "cell_type": "code",
   "execution_count": 95,
   "metadata": {
    "collapsed": false
   },
   "outputs": [
    {
     "data": {
      "text/plain": [
       "28745.559282424329"
      ]
     },
     "execution_count": 95,
     "metadata": {},
     "output_type": "execute_result"
    }
   ],
   "source": [
    "metrics.mean_absolute_error(y_test,y_pred)"
   ]
  },
  {
   "cell_type": "code",
   "execution_count": 96,
   "metadata": {
    "collapsed": false
   },
   "outputs": [
    {
     "data": {
      "text/plain": [
       "1405350107.1183424"
      ]
     },
     "execution_count": 96,
     "metadata": {},
     "output_type": "execute_result"
    }
   ],
   "source": [
    "metrics.mean_squared_error(y_test,y_pred)"
   ]
  },
  {
   "cell_type": "code",
   "execution_count": 97,
   "metadata": {
    "collapsed": true
   },
   "outputs": [],
   "source": [
    "from sklearn import preprocessing\n",
    "\n",
    "poly2 = preprocessing.PolynomialFeatures(2)\n",
    "poly3 = preprocessing.PolynomialFeatures(3)\n",
    "\n",
    "x2 = poly2.fit_transform(x)\n",
    "x3 = poly3.fit_transform(x)  ## feature space , (x1,x2) is original space\n",
    "\n"
   ]
  },
  {
   "cell_type": "code",
   "execution_count": 98,
   "metadata": {
    "collapsed": false
   },
   "outputs": [
    {
     "data": {
      "text/plain": [
       "(100, 6)"
      ]
     },
     "execution_count": 98,
     "metadata": {},
     "output_type": "execute_result"
    }
   ],
   "source": [
    "x2.shape"
   ]
  },
  {
   "cell_type": "code",
   "execution_count": 99,
   "metadata": {
    "collapsed": false
   },
   "outputs": [
    {
     "data": {
      "text/plain": [
       "(100, 10)"
      ]
     },
     "execution_count": 99,
     "metadata": {},
     "output_type": "execute_result"
    }
   ],
   "source": [
    "x3.shape"
   ]
  },
  {
   "cell_type": "code",
   "execution_count": null,
   "metadata": {
    "collapsed": false
   },
   "outputs": [],
   "source": []
  },
  {
   "cell_type": "code",
   "execution_count": 100,
   "metadata": {
    "collapsed": false
   },
   "outputs": [
    {
     "name": "stdout",
     "output_type": "stream",
     "text": [
      "R^2 score: -0.06\n",
      "R^2 score: 0.58\n",
      "Coefficients: [[  0.00000000e+00   2.85249445e+01   1.29856902e+01  -8.40362882e-03\n",
      "    2.25360728e-02  -5.59343702e-03]]\n",
      "Intercept: [ 38294.84153173]\n",
      "Coefficients: [[  3.82948415e+04   2.85249445e+01   1.29856902e+01  -8.40362882e-03\n",
      "    2.25360728e-02  -5.59343702e-03]]\n",
      "Intercept: 0.0\n"
     ]
    }
   ],
   "source": [
    "x_train = x2[train,:]\n",
    "x_test = x2[~train,:]\n",
    "regr.fit(x_train, y_train)\n",
    "print('R^2 score: %.2f' % regr.score(x_test, y_test))\n",
    "\n",
    "x_train = x3[train,:]\n",
    "x_test = x3[~train,:]\n",
    "regr.fit(x_train, y_train)\n",
    "print('R^2 score: %.2f' % regr.score(x_test, y_test))\n",
    "\n",
    "regr_no_intercept = linear_model.LinearRegression(fit_intercept=False)\n",
    "\n",
    "x_train = x2[train,:]\n",
    "x_test = x2[~train,:]\n",
    "regr.fit(x_train, y_train)\n",
    "regr_no_intercept.fit(x_train, y_train)\n",
    "\n",
    "print('Coefficients:', regr.coef_)\n",
    "print('Intercept:', regr.intercept_)\n",
    "\n",
    "print('Coefficients:', regr_no_intercept.coef_)\n",
    "print('Intercept:', regr_no_intercept.intercept_)"
   ]
  },
  {
   "cell_type": "code",
   "execution_count": 101,
   "metadata": {
    "collapsed": false
   },
   "outputs": [
    {
     "name": "stdout",
     "output_type": "stream",
     "text": [
      "R^2 score: -0.83\n"
     ]
    }
   ],
   "source": [
    "import math\n",
    "\n",
    "def map_to_higher_dim(orig_data, terms):\n",
    "    mapped = []\n",
    "    for x in orig_data:\n",
    "        x_higher = []\n",
    "        for d in terms:\n",
    "            v = 1.0\n",
    "            for pos, exponent in d.items():\n",
    "                v *= math.pow(x[pos], exponent)\n",
    "            x_higher.append(v)\n",
    "        mapped.append(x_higher)\n",
    "    return np.asarray(mapped)\n",
    "\n",
    "terms = [{0:2}, {1:2}, {0:1,1:1}]\n",
    "x_mapped = map_to_higher_dim(x, terms)\n",
    "x_train = x_mapped[train,:]\n",
    "x_test = x_mapped[~train,:]\n",
    "regr.fit(x_train, y_train)\n",
    "print('R^2 score: %.2f' % regr.score(x_test, y_test))"
   ]
  },
  {
   "cell_type": "code",
   "execution_count": 102,
   "metadata": {
    "collapsed": false
   },
   "outputs": [
    {
     "data": {
      "text/plain": [
       "[{0: 2}, {1: 2}, {0: 1, 1: 1}]"
      ]
     },
     "execution_count": 102,
     "metadata": {},
     "output_type": "execute_result"
    }
   ],
   "source": [
    "terms"
   ]
  },
  {
   "cell_type": "code",
   "execution_count": 103,
   "metadata": {
    "collapsed": false
   },
   "outputs": [
    {
     "data": {
      "text/plain": [
       "array([[  1.53760000e+06,   1.84960000e+06,   1.68640000e+06],\n",
       "       [  1.36900000e+05,   1.10250000e+06,   3.88500000e+05],\n",
       "       [  1.27690000e+06,   1.02010000e+06,   1.14130000e+06],\n",
       "       [  1.25440000e+06,   6.88900000e+05,   9.29600000e+05],\n",
       "       [  2.92410000e+06,   4.62250000e+06,   3.67650000e+06],\n",
       "       [  1.02010000e+06,   1.51290000e+06,   1.24230000e+06],\n",
       "       [  7.39600000e+05,   2.25000000e+04,   1.29000000e+05],\n",
       "       [  2.01640000e+06,   2.16090000e+06,   2.08740000e+06],\n",
       "       [  1.61290000e+06,   3.42250000e+06,   2.34950000e+06],\n",
       "       [  1.34560000e+06,   1.02400000e+05,   3.71200000e+05],\n",
       "       [  1.48840000e+06,   3.96900000e+05,   7.68600000e+05],\n",
       "       [  2.85610000e+06,   3.16840000e+06,   3.00820000e+06],\n",
       "       [  1.90440000e+06,   2.65690000e+06,   2.24940000e+06],\n",
       "       [  2.52810000e+06,   2.34090000e+06,   2.43270000e+06],\n",
       "       [  1.10250000e+06,   8.64900000e+05,   9.76500000e+05],\n",
       "       [  5.92900000e+05,   3.48100000e+05,   4.54300000e+05],\n",
       "       [  1.98810000e+06,   1.10250000e+06,   1.48050000e+06],\n",
       "       [  1.12360000e+06,   4.00000000e+02,   2.12000000e+04],\n",
       "       [  1.69000000e+06,   7.56900000e+05,   1.13100000e+06],\n",
       "       [  2.25000000e+06,   1.74240000e+06,   1.98000000e+06],\n",
       "       [  6.72400000e+05,   1.82250000e+06,   1.10700000e+06],\n",
       "       [  4.53690000e+06,   7.78410000e+06,   5.94270000e+06],\n",
       "       [  1.36890000e+06,   4.62400000e+05,   7.95600000e+05],\n",
       "       [  2.25000000e+06,   3.38560000e+06,   2.76000000e+06],\n",
       "       [  7.78410000e+06,   1.35424000e+07,   1.02672000e+07],\n",
       "       [  1.06090000e+06,   2.75560000e+06,   1.70980000e+06],\n",
       "       [  1.56250000e+06,   2.62440000e+06,   2.02500000e+06],\n",
       "       [  3.09760000e+06,   9.61000000e+06,   5.45600000e+06],\n",
       "       [  2.40250000e+06,   4.28490000e+06,   3.20850000e+06],\n",
       "       [  2.10250000e+06,   4.22500000e+05,   9.42500000e+05],\n",
       "       [  4.00000000e+06,   5.10760000e+06,   4.52000000e+06],\n",
       "       [  1.82250000e+06,   3.09760000e+06,   2.37600000e+06],\n",
       "       [  3.38560000e+06,   7.56250000e+06,   5.06000000e+06],\n",
       "       [  6.30010000e+06,   4.08040000e+06,   5.07020000e+06],\n",
       "       [  9.67210000e+06,   2.40100000e+07,   1.52390000e+07],\n",
       "       [  3.09760000e+06,   1.39240000e+06,   2.07680000e+06],\n",
       "       [  1.25440000e+06,   3.48100000e+05,   6.60800000e+05],\n",
       "       [  1.23210000e+06,   2.56000000e+06,   1.77600000e+06],\n",
       "       [  1.84960000e+06,   3.88090000e+06,   2.67920000e+06],\n",
       "       [  1.56250000e+06,   4.24360000e+06,   2.57500000e+06],\n",
       "       [  1.56250000e+06,   3.92040000e+06,   2.47500000e+06],\n",
       "       [  2.19040000e+06,   2.28010000e+06,   2.23480000e+06],\n",
       "       [  2.31040000e+06,   2.92410000e+06,   2.59920000e+06],\n",
       "       [  4.08040000e+06,   2.52810000e+06,   3.21180000e+06],\n",
       "       [  1.48840000e+06,   2.49640000e+06,   1.92760000e+06],\n",
       "       [  2.68960000e+06,   2.28010000e+06,   2.47640000e+06],\n",
       "       [  8.83600000e+05,   2.10250000e+06,   1.36300000e+06],\n",
       "       [  2.49640000e+06,   9.40900000e+05,   1.53260000e+06],\n",
       "       [  1.61290000e+06,   1.56250000e+06,   1.58750000e+06],\n",
       "       [  5.95360000e+06,   1.61604000e+07,   9.80880000e+06],\n",
       "       [  2.31040000e+06,   4.90000000e+05,   1.06400000e+06],\n",
       "       [  9.60400000e+05,   6.72400000e+05,   8.03600000e+05],\n",
       "       [  5.29000000e+06,   4.20250000e+06,   4.71500000e+06],\n",
       "       [  2.04490000e+06,   5.04100000e+05,   1.01530000e+06],\n",
       "       [  1.90440000e+06,   1.63840000e+06,   1.76640000e+06],\n",
       "       [  1.02010000e+06,   3.24000000e+06,   1.81800000e+06],\n",
       "       [  3.16840000e+06,   4.00000000e+02,   3.56000000e+04],\n",
       "       [  1.25440000e+06,   6.40000000e+05,   8.96000000e+05],\n",
       "       [  3.61000000e+06,   1.48840000e+06,   2.31800000e+06],\n",
       "       [  5.90490000e+06,   1.12896000e+07,   8.16480000e+06],\n",
       "       [  1.16640000e+06,   4.41000000e+04,   2.26800000e+05],\n",
       "       [  1.82250000e+06,   1.44400000e+05,   5.13000000e+05],\n",
       "       [  2.95840000e+06,   3.68640000e+06,   3.30240000e+06],\n",
       "       [  1.64025000e+07,   1.89225000e+07,   1.76175000e+07],\n",
       "       [  2.25000000e+06,   2.28010000e+06,   2.26500000e+06],\n",
       "       [  6.40090000e+06,   1.84041000e+07,   1.08537000e+07],\n",
       "       [  1.04040000e+06,   1.34560000e+06,   1.18320000e+06],\n",
       "       [  4.28490000e+06,   9.40900000e+05,   2.00790000e+06],\n",
       "       [  2.31040000e+06,   1.96000000e+06,   2.12800000e+06],\n",
       "       [  1.63840000e+06,   6.24100000e+05,   1.01120000e+06],\n",
       "       [  2.62440000e+06,   1.46410000e+06,   1.96020000e+06],\n",
       "       [  2.31040000e+06,   2.40250000e+06,   2.35600000e+06],\n",
       "       [  4.12090000e+06,   7.84000000e+06,   5.68400000e+06],\n",
       "       [  1.93210000e+06,   6.55360000e+06,   3.55840000e+06],\n",
       "       [  3.53440000e+06,   1.93210000e+06,   2.61320000e+06],\n",
       "       [  7.72840000e+06,   7.95240000e+06,   7.83960000e+06],\n",
       "       [  1.79560000e+06,   8.12250000e+06,   3.81900000e+06],\n",
       "       [  8.83600000e+05,   4.97290000e+06,   2.09620000e+06],\n",
       "       [  3.36400000e+05,   4.00000000e+02,   1.16000000e+04],\n",
       "       [  1.98810000e+06,   2.28010000e+06,   2.12910000e+06],\n",
       "       [  1.32250000e+06,   5.04100000e+05,   8.16500000e+05],\n",
       "       [  1.90440000e+06,   2.37160000e+06,   2.12520000e+06],\n",
       "       [  2.16090000e+06,   3.16840000e+06,   2.61660000e+06],\n",
       "       [  2.52810000e+06,   8.52640000e+06,   4.64280000e+06],\n",
       "       [  1.44000000e+06,   2.92410000e+06,   2.05200000e+06],\n",
       "       [  3.68640000e+06,   3.53440000e+06,   3.60960000e+06],\n",
       "       [  4.62250000e+06,   2.82240000e+06,   3.61200000e+06],\n",
       "       [  4.84000000e+06,   1.36161000e+07,   8.11800000e+06],\n",
       "       [  7.39600000e+05,   8.10000000e+05,   7.74000000e+05],\n",
       "       [  1.51290000e+06,   3.13600000e+05,   6.88800000e+05],\n",
       "       [  1.29960000e+06,   4.16160000e+06,   2.32560000e+06],\n",
       "       [  7.02250000e+06,   1.92721000e+07,   1.16335000e+07],\n",
       "       [  1.12360000e+06,   4.76100000e+05,   7.31400000e+05],\n",
       "       [  3.13290000e+06,   4.41000000e+06,   3.71700000e+06],\n",
       "       [  3.45960000e+06,   8.29440000e+06,   5.35680000e+06],\n",
       "       [  1.12360000e+06,   9.80100000e+05,   1.04940000e+06],\n",
       "       [  2.99290000e+06,   9.18090000e+06,   5.24190000e+06],\n",
       "       [  1.87690000e+06,   2.49640000e+06,   2.16460000e+06],\n",
       "       [  2.43360000e+06,   3.13290000e+06,   2.76120000e+06],\n",
       "       [  1.79560000e+06,   2.04490000e+06,   1.91620000e+06]])"
      ]
     },
     "execution_count": 103,
     "metadata": {},
     "output_type": "execute_result"
    }
   ],
   "source": [
    "x_mapped"
   ]
  },
  {
   "cell_type": "code",
   "execution_count": 106,
   "metadata": {
    "collapsed": false
   },
   "outputs": [
    {
     "data": {
      "text/plain": [
       "(100, 3)"
      ]
     },
     "execution_count": 106,
     "metadata": {},
     "output_type": "execute_result"
    }
   ],
   "source": [
    "x_mapped.shape"
   ]
  },
  {
   "cell_type": "code",
   "execution_count": null,
   "metadata": {
    "collapsed": false
   },
   "outputs": [],
   "source": []
  },
  {
   "cell_type": "code",
   "execution_count": 108,
   "metadata": {
    "collapsed": false
   },
   "outputs": [
    {
     "name": "stdout",
     "output_type": "stream",
     "text": [
      "[  37.24121082 -106.57751991  787.17931333  416.67377167] 152.133484163\n",
      "[  37.23815519 -106.57818787  787.17463278  416.6827283 ] [ 152.13344358]\n"
     ]
    }
   ],
   "source": [
    "from sklearn import datasets\n",
    "diabetes = datasets.load_diabetes()\n",
    "x = diabetes.data[:,:4]\n",
    "y = diabetes.target\n",
    "regr = linear_model.LinearRegression()\n",
    "regr.fit(x, y)\n",
    "sgd = linear_model.SGDRegressor(n_iter=100000, penalty='none')\n",
    "sgd.fit(x, y)\n",
    "regr.score(x, y)\n",
    "sgd.score(x, y)\n",
    "print(regr.coef_, regr.intercept_)\n",
    "print(sgd.coef_, sgd.intercept_)\n",
    "\n"
   ]
  },
  {
   "cell_type": "code",
   "execution_count": 110,
   "metadata": {
    "collapsed": false
   },
   "outputs": [
    {
     "data": {
      "text/plain": [
       "array([[ 0.03807591,  0.05068012,  0.06169621,  0.02187235],\n",
       "       [-0.00188202, -0.04464164, -0.05147406, -0.02632783],\n",
       "       [ 0.08529891,  0.05068012,  0.04445121, -0.00567061],\n",
       "       ..., \n",
       "       [ 0.04170844,  0.05068012, -0.01590626,  0.01728186],\n",
       "       [-0.04547248, -0.04464164,  0.03906215,  0.00121513],\n",
       "       [-0.04547248, -0.04464164, -0.0730303 , -0.08141377]])"
      ]
     },
     "execution_count": 110,
     "metadata": {},
     "output_type": "execute_result"
    }
   ],
   "source": [
    "x"
   ]
  },
  {
   "cell_type": "code",
   "execution_count": 118,
   "metadata": {
    "collapsed": false
   },
   "outputs": [
    {
     "data": {
      "image/png": "[encoded data removed]",
      "text/plain": [
       "<matplotlib.figure.Figure at 0x1131decf8>"
      ]
     },
     "metadata": {},
     "output_type": "display_data"
    }
   ],
   "source": [
    "import matplotlib.pyplot as plt\n",
    "from mpl_toolkits.mplot3d import Axes3D\n",
    "\n",
    "x = diabetes.data[:,[2,8]]\n",
    "y = diabetes.target\n",
    "regr = linear_model.LinearRegression()\n",
    "regr.fit(x, y)\n",
    "steps = 40\n",
    "lx0 = np.arange(min(x[:,0]), max(x[:,0]), (max(x[:,0]) - min(x[:,0])) / steps).reshape(steps,1)\n",
    "lx1 = np.arange(min(x[:,1]), max(x[:,1]), (max(x[:,1]) - min(x[:,1])) / steps).reshape(steps,1)\n",
    "xx0, xx1 = np.meshgrid(lx0, lx1)\n",
    "xx = np.zeros(shape = (steps,steps,2))\n",
    "xx[:,:,0] = xx0\n",
    "xx[:,:,1] = xx1\n",
    "x_stack = xx.reshape(steps ** 2, 2)\n",
    "y_stack = regr.predict(x_stack)\n",
    "yy = y_stack.reshape(steps, steps)\n",
    "\n",
    "fig = plt.figure()\n",
    "ax = fig.gca(projection = '3d')\n",
    "ax.scatter(x[:,0], x[:,1], y, color = 'red')\n",
    "ax.plot_surface(xx0, xx1, yy, rstride=1, cstride=1,color='yellow')\n",
    "plt.show()"
   ]
  },
  {
   "cell_type": "code",
   "execution_count": null,
   "metadata": {
    "collapsed": true
   },
   "outputs": [],
   "source": []
  }
 ],
 "metadata": {
  "anaconda-cloud": {},
  "kernelspec": {
   "display_name": "Python [conda root]",
   "language": "python",
   "name": "conda-root-py"
  },
  "language_info": {
   "codemirror_mode": {
    "name": "ipython",
    "version": 3
   },
   "file_extension": ".py",
   "mimetype": "text/x-python",
   "name": "python",
   "nbconvert_exporter": "python",
   "pygments_lexer": "ipython3",
   "version": "3.5.2"
  }
 },
 "nbformat": 4,
 "nbformat_minor": 1
}
